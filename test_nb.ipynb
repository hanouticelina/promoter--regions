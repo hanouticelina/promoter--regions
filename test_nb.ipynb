{
 "cells": [
  {
   "cell_type": "markdown",
   "metadata": {},
   "source": [
    "# Projet 3 - Stats"
   ]
  },
  {
   "cell_type": "code",
   "execution_count": 1,
   "metadata": {
    "ExecuteTime": {
     "end_time": "2019-03-29T15:31:19.809806Z",
     "start_time": "2019-03-29T15:31:18.156164Z"
    }
   },
   "outputs": [],
   "source": [
    "import pandas as pd\n",
    "import numpy as np"
   ]
  },
  {
   "cell_type": "code",
   "execution_count": 2,
   "metadata": {
    "ExecuteTime": {
     "end_time": "2019-03-29T15:32:28.569463Z",
     "start_time": "2019-03-29T15:32:28.540353Z"
    }
   },
   "outputs": [],
   "source": [
    "%load_ext autoreload\n",
    "%autoreload 2\n",
    "\n",
    "import utils\n",
    "import projet"
   ]
  },
  {
   "cell_type": "code",
   "execution_count": 25,
   "metadata": {
    "ExecuteTime": {
     "end_time": "2019-03-29T16:01:13.564412Z",
     "start_time": "2019-03-29T16:01:13.252547Z"
    }
   },
   "outputs": [
    {
     "data": {
      "text/plain": [
       "4"
      ]
     },
     "execution_count": 25,
     "metadata": {},
     "output_type": "execute_result"
    }
   ],
   "source": [
    "cerevisae = utils.read_fasta('sequences/yeast_s_cerevisae_genomic_chr1-4.fna')\n",
    "len(cerevisae)"
   ]
  },
  {
   "cell_type": "code",
   "execution_count": 43,
   "metadata": {
    "ExecuteTime": {
     "end_time": "2019-03-29T16:17:56.302263Z",
     "start_time": "2019-03-29T16:17:55.740690Z"
    }
   },
   "outputs": [],
   "source": [
    "chromos = [seq for seq in cerevisae.values()]\n",
    "chromos_flattened = [el for sub in chromos for el in sub]\n",
    "freqs = utils.nucleotide_count(chromos_flattened)\n",
    "probas = utils.nucleotide_frequency(chromos_flattened)"
   ]
  },
  {
   "cell_type": "code",
   "execution_count": 54,
   "metadata": {
    "ExecuteTime": {
     "end_time": "2019-03-29T16:29:23.111693Z",
     "start_time": "2019-03-29T16:29:23.092532Z"
    }
   },
   "outputs": [],
   "source": [
    "nucleotide = {'A': 0, 'C': 1, 'G': 2, 'T': 3}\n",
    "def logproba(sequence, probas):\n",
    "    return sum([np.log(probas[nb]) for nb in sequence])\n",
    "\n",
    "def logprobafast(frequencies):\n",
    "    return (np.array(frequencies) * np.log(frequencies)).sum() - sum(frequencies)*np.log(sum(frequencies))"
   ]
  },
  {
   "cell_type": "code",
   "execution_count": 45,
   "metadata": {
    "ExecuteTime": {
     "end_time": "2019-03-29T16:18:00.816824Z",
     "start_time": "2019-03-29T16:17:57.714716Z"
    }
   },
   "outputs": [
    {
     "data": {
      "text/plain": [
       "-3438164.462646954"
      ]
     },
     "execution_count": 45,
     "metadata": {},
     "output_type": "execute_result"
    }
   ],
   "source": [
    "logproba(chromos_flattened, probas)"
   ]
  },
  {
   "cell_type": "code",
   "execution_count": 55,
   "metadata": {
    "ExecuteTime": {
     "end_time": "2019-03-29T16:29:24.214028Z",
     "start_time": "2019-03-29T16:29:24.202839Z"
    }
   },
   "outputs": [
    {
     "data": {
      "text/plain": [
       "-3438164.4626394957"
      ]
     },
     "execution_count": 55,
     "metadata": {},
     "output_type": "execute_result"
    }
   ],
   "source": [
    "logprobafast(freqs)"
   ]
  },
  {
   "cell_type": "code",
   "execution_count": 51,
   "metadata": {
    "ExecuteTime": {
     "end_time": "2019-03-29T16:27:32.858146Z",
     "start_time": "2019-03-29T16:27:32.844783Z"
    }
   },
   "outputs": [
    {
     "data": {
      "text/plain": [
       "[754342, 505943, 503163, 752405]"
      ]
     },
     "execution_count": 51,
     "metadata": {},
     "output_type": "execute_result"
    }
   ],
   "source": [
    "freqs"
   ]
  },
  {
   "cell_type": "code",
   "execution_count": 37,
   "metadata": {
    "ExecuteTime": {
     "end_time": "2019-03-29T16:13:09.988453Z",
     "start_time": "2019-03-29T16:13:09.973841Z"
    }
   },
   "outputs": [
    {
     "data": {
      "text/plain": [
       "-3.7297014486341915"
      ]
     },
     "execution_count": 37,
     "metadata": {},
     "output_type": "execute_result"
    }
   ],
   "source": [
    "logproba([1, 0, 3], (0.2, 0.3, 0.1, 0.4))"
   ]
  },
  {
   "cell_type": "code",
   "execution_count": 71,
   "metadata": {
    "ExecuteTime": {
     "end_time": "2019-03-29T16:56:21.059599Z",
     "start_time": "2019-03-29T16:56:21.048125Z"
    }
   },
   "outputs": [
    {
     "data": {
      "text/plain": [
       "49"
      ]
     },
     "execution_count": 71,
     "metadata": {},
     "output_type": "execute_result"
    }
   ],
   "source": [
    "from functools import reduce\n",
    "\n",
    "def code(m, k):\n",
    "    return reduce(lambda p, n: 4*p+n, [nucleotide[c] for c in m])\n",
    "\n",
    "code('TAC', 3)"
   ]
  },
  {
   "cell_type": "code",
   "execution_count": 85,
   "metadata": {
    "ExecuteTime": {
     "end_time": "2019-03-29T17:01:33.361450Z",
     "start_time": "2019-03-29T17:01:33.346381Z"
    }
   },
   "outputs": [],
   "source": [
    "inv_nucleotide = {str(v):k for k,v in nucleotide.items()}\n",
    "def str_to_int(string): # str (letters) => list of int\n",
    "    return [nucleotide[nb] for nb in string]\n",
    "def int_to_str(sequence): # str (numbers) => str (letters)\n",
    "    return ''.join([inv_nucleotide[n] for n in sequence])\n",
    "\n",
    "def inv_code(index, k):\n",
    "    def func(p, n):\n",
    "        # p : (str, int) == string so far, remaining index\n",
    "        # n : (None, int) == _, exponent of 4 for reduction\n",
    "         return p[0] + str(p[1]//(4**n[1])), p[1] % (4**n[1])\n",
    "    return int_to_str(reduce(func, [(None, i) for i in range(k-1,-1,-1)], ('', index))[0])"
   ]
  },
  {
   "cell_type": "code",
   "execution_count": 86,
   "metadata": {
    "ExecuteTime": {
     "end_time": "2019-03-29T17:01:33.990937Z",
     "start_time": "2019-03-29T17:01:33.977145Z"
    }
   },
   "outputs": [
    {
     "data": {
      "text/plain": [
       "'TAC'"
      ]
     },
     "execution_count": 86,
     "metadata": {},
     "output_type": "execute_result"
    }
   ],
   "source": [
    "inv_code(49, 3)"
   ]
  },
  {
   "cell_type": "code",
   "execution_count": 76,
   "metadata": {
    "ExecuteTime": {
     "end_time": "2019-03-29T16:59:33.677290Z",
     "start_time": "2019-03-29T16:59:33.664317Z"
    }
   },
   "outputs": [
    {
     "data": {
      "text/plain": [
       "{0: 'A', 1: 'C', 2: 'G', 3: 'T'}"
      ]
     },
     "execution_count": 76,
     "metadata": {},
     "output_type": "execute_result"
    }
   ],
   "source": [
    "inv_nucleotide"
   ]
  },
  {
   "cell_type": "code",
   "execution_count": 80,
   "metadata": {
    "ExecuteTime": {
     "end_time": "2019-03-29T17:00:26.424962Z",
     "start_time": "2019-03-29T17:00:26.414482Z"
    }
   },
   "outputs": [
    {
     "data": {
      "text/plain": [
       "'TAC'"
      ]
     },
     "execution_count": 80,
     "metadata": {},
     "output_type": "execute_result"
    }
   ],
   "source": [
    "int_to_str('301')"
   ]
  },
  {
   "cell_type": "code",
   "execution_count": null,
   "metadata": {},
   "outputs": [],
   "source": []
  }
 ],
 "metadata": {
  "kernelspec": {
   "display_name": "Python 3",
   "language": "python",
   "name": "python3"
  },
  "language_info": {
   "codemirror_mode": {
    "name": "ipython",
    "version": 3
   },
   "file_extension": ".py",
   "mimetype": "text/x-python",
   "name": "python",
   "nbconvert_exporter": "python",
   "pygments_lexer": "ipython3",
   "version": "3.7.1"
  },
  "varInspector": {
   "cols": {
    "lenName": 16,
    "lenType": 16,
    "lenVar": 40
   },
   "kernels_config": {
    "python": {
     "delete_cmd_postfix": "",
     "delete_cmd_prefix": "del ",
     "library": "var_list.py",
     "varRefreshCmd": "print(var_dic_list())"
    },
    "r": {
     "delete_cmd_postfix": ") ",
     "delete_cmd_prefix": "rm(",
     "library": "var_list.r",
     "varRefreshCmd": "cat(var_dic_list()) "
    }
   },
   "types_to_exclude": [
    "module",
    "function",
    "builtin_function_or_method",
    "instance",
    "_Feature"
   ],
   "window_display": false
  }
 },
 "nbformat": 4,
 "nbformat_minor": 2
}
