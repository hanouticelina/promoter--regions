{
 "cells": [
  {
   "cell_type": "markdown",
   "metadata": {},
   "source": [
    "# Projet 3 - Stats"
   ]
  },
  {
   "cell_type": "code",
   "execution_count": 1,
   "metadata": {
    "ExecuteTime": {
     "end_time": "2019-04-03T21:10:12.764318Z",
     "start_time": "2019-04-03T21:10:12.539900Z"
    }
   },
   "outputs": [],
   "source": [
    "import pandas as pd\n",
    "import numpy as np"
   ]
  },
  {
   "cell_type": "code",
   "execution_count": 2,
   "metadata": {
    "ExecuteTime": {
     "end_time": "2019-04-03T21:10:12.778077Z",
     "start_time": "2019-04-03T21:10:12.765866Z"
    }
   },
   "outputs": [],
   "source": [
    "%load_ext autoreload\n",
    "%autoreload 2\n",
    "\n",
    "import utils\n",
    "import project"
   ]
  },
  {
   "cell_type": "code",
   "execution_count": 3,
   "metadata": {
    "ExecuteTime": {
     "end_time": "2019-04-03T21:10:13.188081Z",
     "start_time": "2019-04-03T21:10:12.779405Z"
    }
   },
   "outputs": [
    {
     "data": {
      "text/plain": [
       "4"
      ]
     },
     "execution_count": 3,
     "metadata": {},
     "output_type": "execute_result"
    }
   ],
   "source": [
    "cerevisae = utils.read_fasta('sequences/yeast_s_cerevisae_genomic_chr1-4.fna')\n",
    "len(cerevisae)"
   ]
  },
  {
   "cell_type": "code",
   "execution_count": 4,
   "metadata": {
    "ExecuteTime": {
     "end_time": "2019-04-03T21:10:13.748205Z",
     "start_time": "2019-04-03T21:10:13.190365Z"
    }
   },
   "outputs": [],
   "source": [
    "chromos = [seq for seq in cerevisae.values()]\n",
    "chromos_flattened = [el for sub in chromos for el in sub]\n",
    "freqs = utils.nucleotide_count(chromos_flattened)\n",
    "probas = utils.nucleotide_frequency(chromos_flattened)"
   ]
  },
  {
   "cell_type": "code",
   "execution_count": 5,
   "metadata": {
    "ExecuteTime": {
     "end_time": "2019-04-03T21:10:17.018491Z",
     "start_time": "2019-04-03T21:10:13.749554Z"
    }
   },
   "outputs": [
    {
     "data": {
      "text/plain": [
       "-3438164.462646954"
      ]
     },
     "execution_count": 5,
     "metadata": {},
     "output_type": "execute_result"
    }
   ],
   "source": [
    "project.logproba(chromos_flattened, probas)"
   ]
  },
  {
   "cell_type": "code",
   "execution_count": 6,
   "metadata": {
    "ExecuteTime": {
     "end_time": "2019-04-03T21:10:17.032956Z",
     "start_time": "2019-04-03T21:10:17.020736Z"
    }
   },
   "outputs": [
    {
     "data": {
      "text/plain": [
       "-3438164.4626394957"
      ]
     },
     "execution_count": 6,
     "metadata": {},
     "output_type": "execute_result"
    }
   ],
   "source": [
    "project.logprobafast(freqs)"
   ]
  },
  {
   "cell_type": "code",
   "execution_count": 7,
   "metadata": {
    "ExecuteTime": {
     "end_time": "2019-04-03T21:10:17.089094Z",
     "start_time": "2019-04-03T21:10:17.034721Z"
    }
   },
   "outputs": [
    {
     "data": {
      "text/plain": [
       "[754342, 505943, 503163, 752405]"
      ]
     },
     "execution_count": 7,
     "metadata": {},
     "output_type": "execute_result"
    }
   ],
   "source": [
    "freqs"
   ]
  },
  {
   "cell_type": "code",
   "execution_count": 8,
   "metadata": {
    "ExecuteTime": {
     "end_time": "2019-04-03T21:10:17.214635Z",
     "start_time": "2019-04-03T21:10:17.090987Z"
    }
   },
   "outputs": [
    {
     "data": {
      "text/plain": [
       "-3.7297014486341915"
      ]
     },
     "execution_count": 8,
     "metadata": {},
     "output_type": "execute_result"
    }
   ],
   "source": [
    "project.logproba([1, 0, 3], (0.2, 0.3, 0.1, 0.4))"
   ]
  },
  {
   "cell_type": "code",
   "execution_count": 9,
   "metadata": {
    "ExecuteTime": {
     "end_time": "2019-04-03T21:10:17.305968Z",
     "start_time": "2019-04-03T21:10:17.217066Z"
    }
   },
   "outputs": [
    {
     "data": {
      "text/plain": [
       "49"
      ]
     },
     "execution_count": 9,
     "metadata": {},
     "output_type": "execute_result"
    }
   ],
   "source": [
    "project.code('TAC', 3)"
   ]
  },
  {
   "cell_type": "code",
   "execution_count": 10,
   "metadata": {
    "ExecuteTime": {
     "end_time": "2019-04-03T21:10:17.355928Z",
     "start_time": "2019-04-03T21:10:17.308456Z"
    }
   },
   "outputs": [
    {
     "data": {
      "text/plain": [
       "'TAC'"
      ]
     },
     "execution_count": 10,
     "metadata": {},
     "output_type": "execute_result"
    }
   ],
   "source": [
    "project.inv_code(49, 3)"
   ]
  },
  {
   "cell_type": "code",
   "execution_count": 11,
   "metadata": {
    "ExecuteTime": {
     "end_time": "2019-04-03T21:10:17.406572Z",
     "start_time": "2019-04-03T21:10:17.357323Z"
    }
   },
   "outputs": [
    {
     "data": {
      "text/plain": [
       "{0: 'A', 1: 'C', 2: 'G', 3: 'T'}"
      ]
     },
     "execution_count": 11,
     "metadata": {},
     "output_type": "execute_result"
    }
   ],
   "source": [
    "project.inv_nucleotide"
   ]
  },
  {
   "cell_type": "code",
   "execution_count": 12,
   "metadata": {
    "ExecuteTime": {
     "end_time": "2019-04-03T21:10:17.455879Z",
     "start_time": "2019-04-03T21:10:17.409011Z"
    }
   },
   "outputs": [
    {
     "data": {
      "text/plain": [
       "'TAC'"
      ]
     },
     "execution_count": 12,
     "metadata": {},
     "output_type": "execute_result"
    }
   ],
   "source": [
    "project.int_to_str('301')"
   ]
  },
  {
   "cell_type": "code",
   "execution_count": 13,
   "metadata": {
    "ExecuteTime": {
     "end_time": "2019-04-03T21:10:17.507157Z",
     "start_time": "2019-04-03T21:10:17.457530Z"
    }
   },
   "outputs": [
    {
     "data": {
      "text/plain": [
       "{'AT': 2, 'TC': 1, 'CA': 1}"
      ]
     },
     "execution_count": 13,
     "metadata": {},
     "output_type": "execute_result"
    }
   ],
   "source": [
    "project.n_grams('ATCAT', 2)"
   ]
  },
  {
   "cell_type": "code",
   "execution_count": null,
   "metadata": {},
   "outputs": [],
   "source": []
  }
 ],
 "metadata": {
  "kernelspec": {
   "display_name": "Python 3",
   "language": "python",
   "name": "python3"
  },
  "language_info": {
   "codemirror_mode": {
    "name": "ipython",
    "version": 3
   },
   "file_extension": ".py",
   "mimetype": "text/x-python",
   "name": "python",
   "nbconvert_exporter": "python",
   "pygments_lexer": "ipython3",
   "version": "3.7.3"
  },
  "varInspector": {
   "cols": {
    "lenName": 16,
    "lenType": 16,
    "lenVar": 40
   },
   "kernels_config": {
    "python": {
     "delete_cmd_postfix": "",
     "delete_cmd_prefix": "del ",
     "library": "var_list.py",
     "varRefreshCmd": "print(var_dic_list())"
    },
    "r": {
     "delete_cmd_postfix": ") ",
     "delete_cmd_prefix": "rm(",
     "library": "var_list.r",
     "varRefreshCmd": "cat(var_dic_list()) "
    }
   },
   "types_to_exclude": [
    "module",
    "function",
    "builtin_function_or_method",
    "instance",
    "_Feature"
   ],
   "window_display": false
  }
 },
 "nbformat": 4,
 "nbformat_minor": 2
}
